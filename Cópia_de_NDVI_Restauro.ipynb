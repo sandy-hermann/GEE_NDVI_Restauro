{
  "nbformat": 4,
  "nbformat_minor": 0,
  "metadata": {
    "colab": {
      "provenance": [],
      "authorship_tag": "ABX9TyNviweYAKnwWdJtycQvsnmi",
      "include_colab_link": true
    },
    "kernelspec": {
      "name": "python3",
      "display_name": "Python 3"
    },
    "language_info": {
      "name": "python"
    }
  },
  "cells": [
    {
      "cell_type": "markdown",
      "metadata": {
        "id": "view-in-github",
        "colab_type": "text"
      },
      "source": [
        "<a href=\"https://colab.research.google.com/github/sandy-hermann/GEE_NDVI_Restauro/blob/main/C%C3%B3pia_de_NDVI_Restauro.ipynb\" target=\"_parent\"><img src=\"https://colab.research.google.com/assets/colab-badge.svg\" alt=\"Open In Colab\"/></a>"
      ]
    },
    {
      "cell_type": "markdown",
      "source": [
        "**NDVI com Google Earth Engine (Python)**\n",
        "\n",
        "Por: Sandy dos Reis Hermann\n",
        "\n",
        "26/05/2025\n",
        "\n",
        "**Análise do monitoramento de 5 anos da cobertura vegetal em área de restauração com uso de imagens de satélite: uma abordagem usando Google Earth Engine e Google Colab.**\n",
        "\n",
        "- Esse projeto tem como objetivo analisar por meio das geotecnologias, a cobertura vegetal da área de restauro ao entorno da PCH Anhanguera, localizada no município de São Joaquim da Barra - SP -\n",
        "- Este script utiliza o Google Earth Engine para calcular o NDVI (Índice de Vegetação por Diferença Normalizada) de imagens do satélite Sentinel-2 na área de interesse com raio de 5 km, para os anos de 2018 a 2022. Os resultados são exportados automaticamente para o Google Drive.\n",
        "\n",
        "✅ Requisitos\n",
        "\n",
        "- Conta no Google Earth Engine (https://signup.earthengine.google.com)\n",
        "- Biblioteca Python 'earthengine-api' instalada\n",
        "- Autenticação feita com ee.Authenticate() e ee.Initialize()\n",
        "- Permissão para gravar no seu Google Drive\n",
        "\n"
      ],
      "metadata": {
        "id": "g9OBc--cAGY5"
      }
    },
    {
      "cell_type": "markdown",
      "source": [
        "Primeiro vamos importar as bibliotecas e autenticar sua conta!"
      ],
      "metadata": {
        "id": "LHiWR5Q2EO1s"
      }
    },
    {
      "cell_type": "code",
      "source": [
        "import ee\n",
        "import datetime"
      ],
      "metadata": {
        "id": "W66oeIBzWjga"
      },
      "execution_count": 1,
      "outputs": []
    },
    {
      "cell_type": "code",
      "source": [
        "# Trigger the authentication flow\n",
        "ee.Authenticate()"
      ],
      "metadata": {
        "id": "I5BXlNalWmGK"
      },
      "execution_count": 2,
      "outputs": []
    },
    {
      "cell_type": "markdown",
      "source": [
        "Nessa parte é necessário já ter entrado em sua conta do GEE e criar um novo projeto"
      ],
      "metadata": {
        "id": "iN3BGqWxEc4I"
      }
    },
    {
      "cell_type": "code",
      "source": [
        " # Initialize the library\n",
        "ee.Initialize(project='projeto-teste-sr-459612')"
      ],
      "metadata": {
        "id": "QKHagCDWW3eo"
      },
      "execution_count": 3,
      "outputs": []
    },
    {
      "cell_type": "markdown",
      "source": [
        "**🌍 Área de estudo - São Joaquim da Barra**\n",
        "\n",
        "O script define um ponto central:\n",
        "\n",
        "Latitude: -20.51016  \n",
        "Longitude: -47.85615"
      ],
      "metadata": {
        "id": "H_6I3M-uE2Sr"
      }
    },
    {
      "cell_type": "code",
      "source": [
        "# Definir o ponto de interesse e buffer de 5 km\n",
        "ponto = ee.Geometry.Point([-47.85615, -20.51016])\n",
        "aoi_buffer = ponto.buffer(5000)"
      ],
      "metadata": {
        "id": "oXqXYtC2W-ta"
      },
      "execution_count": 4,
      "outputs": []
    },
    {
      "cell_type": "markdown",
      "source": [
        "**O que o script vai fazer?**\n",
        "\n",
        "\n",
        "Exporta os resultados para uma pasta no Google Drive chamada GEE_Restauro.\n",
        "\n",
        "1.   Remover nuvens usando a banda QA60 das imagens Sentinel-2.\n",
        "2.   Calcular o NDVI: (B8 - B4) / (B8 + B4)\n",
        "3. Exportar os resultados para uma pasta no Google Drive (nomear uma pasta onde você irá deixar todos os arquivos)\n",
        "\n",
        "Os arquivos sairão em formato .tif\n",
        "\n",
        "\n",
        "\n"
      ],
      "metadata": {
        "id": "s58ArEtmGsl4"
      }
    },
    {
      "cell_type": "code",
      "source": [
        "# Função para mascarar nuvens usando a banda QA60\n",
        "def maskS2clouds(image):\n",
        "    qa = image.select('QA60')\n",
        "    cloudBitMask = 1 << 10\n",
        "    cirrusBitMask = 1 << 11\n",
        "    mask = qa.bitwiseAnd(cloudBitMask).eq(0).And(\n",
        "           qa.bitwiseAnd(cirrusBitMask).eq(0))\n",
        "    return image.updateMask(mask).divide(10000)"
      ],
      "metadata": {
        "id": "1_icnyL5XCOd"
      },
      "execution_count": 5,
      "outputs": []
    },
    {
      "cell_type": "code",
      "source": [
        "# ⚠️ Função NDVI definida fora do loop\n",
        "def calc_ndvi(img):\n",
        "    return img.normalizedDifference(['B8', 'B4']).rename('NDVI')"
      ],
      "metadata": {
        "id": "VFTU6HPU34Hx"
      },
      "execution_count": 6,
      "outputs": []
    },
    {
      "cell_type": "code",
      "source": [
        "# Lista de anos\n",
        "anos = list(range(2018, 2023))"
      ],
      "metadata": {
        "id": "EjKMUyqFXE_V"
      },
      "execution_count": 7,
      "outputs": []
    },
    {
      "cell_type": "code",
      "source": [
        "anos"
      ],
      "metadata": {
        "colab": {
          "base_uri": "https://localhost:8080/"
        },
        "id": "IiadSb7XXQqV",
        "outputId": "993b4fd2-4e28-48b5-f59b-efe0cbfbc4fd"
      },
      "execution_count": 8,
      "outputs": [
        {
          "output_type": "execute_result",
          "data": {
            "text/plain": [
              "[2018, 2019, 2020, 2021, 2022]"
            ]
          },
          "metadata": {},
          "execution_count": 8
        }
      ]
    },
    {
      "cell_type": "code",
      "source": [
        "# Loop por ano\n",
        "for ano in anos:\n",
        "    inicio = ee.Date(f'{ano}-01-01')\n",
        "    fim = ee.Date(f'{ano}-12-31')\n",
        "\n",
        "    colecao = ee.ImageCollection('COPERNICUS/S2_SR_HARMONIZED') \\\n",
        "        .filterDate(inicio, fim) \\\n",
        "        .filterBounds(aoi_buffer) \\\n",
        "        .filter(ee.Filter.lt('CLOUDY_PIXEL_PERCENTAGE', 20)) \\\n",
        "        .map(maskS2clouds)\n",
        "\n",
        "    ndvi = colecao.map(calc_ndvi).mean().clip(aoi_buffer)\n",
        "\n",
        "    task = ee.batch.Export.image.toDrive(\n",
        "        image=ndvi,\n",
        "        description=f'NDVI_{ano}',\n",
        "        folder='GEE_Restauro',\n",
        "        fileNamePrefix=f'NDVI_{ano}',\n",
        "        region=aoi_buffer,\n",
        "        scale=10,\n",
        "        crs='EPSG:4326',\n",
        "        maxPixels=1e13\n",
        "    )\n",
        "\n",
        "    task.start()\n",
        "    print(f'✅ Exportação do NDVI {ano} iniciada.')"
      ],
      "metadata": {
        "colab": {
          "base_uri": "https://localhost:8080/"
        },
        "id": "0kmhd-rFfN7u",
        "outputId": "2ea4dabd-b663-4d9e-9edb-2ce874a10d9c"
      },
      "execution_count": 17,
      "outputs": [
        {
          "output_type": "stream",
          "name": "stdout",
          "text": [
            "✅ Exportação do NDVI 2018 iniciada.\n",
            "✅ Exportação do NDVI 2019 iniciada.\n",
            "✅ Exportação do NDVI 2020 iniciada.\n",
            "✅ Exportação do NDVI 2021 iniciada.\n",
            "✅ Exportação do NDVI 2022 iniciada.\n"
          ]
        }
      ]
    }
  ]
}